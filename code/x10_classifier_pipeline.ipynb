{
 "cells": [
  {
   "cell_type": "markdown",
   "id": "f2721461-404a-4096-9ac6-05f25484f3b9",
   "metadata": {},
   "source": [
    "```bash\n",
    "## TO RUN THIS NOTEBOOK FROM THE TERMINAL\n",
    "$ jupyter nbconvert --to script x10_classifier_pipeline.ipynb\n",
    "$ python x10_classifier_pipeline.py\n",
    "```"
   ]
  },
  {
   "cell_type": "code",
   "execution_count": 24,
   "id": "2910f7fa-d920-47b3-87be-1bf52b107c1f",
   "metadata": {},
   "outputs": [],
   "source": [
    "import numpy as np\n",
    "import pandas as pd\n",
    "import matplotlib.pyplot as plt\n",
    "\n",
    "from xgboost import XGBClassifier\n",
    "\n",
    "from sklearn.svm import SVC\n",
    "from sklearn.tree import DecisionTreeClassifier\n",
    "from sklearn.ensemble import RandomForestClassifier\n",
    "from sklearn.ensemble import GradientBoostingClassifier\n",
    "from sklearn.ensemble import RandomForestClassifier\n",
    "from sklearn.neighbors import KNeighborsClassifier\n",
    "from sklearn.neighbors import KNeighborsClassifier\n",
    "from sklearn.gaussian_process import kernels, GaussianProcessClassifier"
   ]
  },
  {
   "cell_type": "markdown",
   "id": "e7ed6695-ff69-44f0-a3b1-7f2da32b7ba0",
   "metadata": {},
   "source": [
    "### Common libraries"
   ]
  },
  {
   "cell_type": "code",
   "execution_count": 13,
   "id": "207d6614-7e91-4fde-8b51-6d0854c9d8f6",
   "metadata": {},
   "outputs": [],
   "source": [
    "from model import plotlib\n",
    "from model import pipeline\n",
    "from model import utils\n",
    "from model.AdCommon import *\n",
    "from model.AdFeature import *\n",
    "from model.AdAugment import *\n",
    "from model.AdHyperParam import *\n",
    "from model.AdScaler import *"
   ]
  },
  {
   "cell_type": "code",
   "execution_count": 14,
   "id": "678049f1-386a-4401-abc4-f976f35afed6",
   "metadata": {},
   "outputs": [],
   "source": [
    "from model.AdClassify import *"
   ]
  },
  {
   "cell_type": "code",
   "execution_count": 34,
   "id": "2bb17055-207a-4d89-90ae-ac94913f222b",
   "metadata": {},
   "outputs": [],
   "source": [
    "from importlib import reload\n",
    "reload(pipeline);"
   ]
  },
  {
   "cell_type": "markdown",
   "id": "7ef4755c-142a-484b-8726-f3441f77b1b2",
   "metadata": {},
   "source": [
    "### Project libraries"
   ]
  },
  {
   "cell_type": "code",
   "execution_count": 22,
   "id": "a0929e62-6217-48f1-b303-8fc2e436c154",
   "metadata": {},
   "outputs": [],
   "source": [
    "from uv_vis.AdData import LoadData, ObservedData, ImputedData\n",
    "from uv_vis.AdFeatures import AggregateFeatures\n",
    "from uv_vis import hyperparams"
   ]
  },
  {
   "cell_type": "markdown",
   "id": "7a1e4ed7-7fc5-44fe-897c-0d93af35be5f",
   "metadata": {},
   "source": [
    "### Initialize"
   ]
  },
  {
   "cell_type": "code",
   "execution_count": 25,
   "id": "437a0743-bdf6-4c66-aa57-18506e38db0b",
   "metadata": {},
   "outputs": [],
   "source": [
    "plotlib.load_fonts(\"../../../common/fonts/\")\n",
    "plt.style.use(\"matplotlib.mplstyle\")\n",
    "\n",
    "inputCsv = \"../Data/imputed_data.mice.csv\"\n",
    "ignoreXCols = ['imp', 'id', 'quality', 'lobe', 'full', 'other', 'coatingId']"
   ]
  },
  {
   "cell_type": "code",
   "execution_count": 26,
   "id": "29c53e34-361f-450c-b9cc-e8ed0fbfb472",
   "metadata": {},
   "outputs": [
    {
     "name": "stdout",
     "output_type": "stream",
     "text": [
      " -- LoadData() ... \n",
      "\t Add coating classes: ['full', 'other', 'lobe']\n",
      "\t Test IDs: [6, 16, 17, 26, 30, 15]\n",
      "\t Test classes: ['full', 'other', 'lobe', 'full', 'lobe', 'full']\n",
      "\n"
     ]
    },
    {
     "data": {
      "text/plain": [
       "xCols: []"
      ]
     },
     "execution_count": 26,
     "metadata": {},
     "output_type": "execute_result"
    }
   ],
   "source": [
    "loader = LoadData()\n",
    "loader.Execute(inputCsv)"
   ]
  },
  {
   "cell_type": "markdown",
   "id": "529bcfd0-ad87-4b0e-89bf-6133ae9a0f47",
   "metadata": {},
   "source": [
    "### Define grid pipeline"
   ]
  },
  {
   "cell_type": "code",
   "execution_count": 23,
   "id": "cd5b3864-28a1-47d3-91f9-7c7ffaecd18c",
   "metadata": {},
   "outputs": [],
   "source": [
    "grid = [\n",
    "    loader,\n",
    "    (\n",
    "        ObservedData(),\n",
    "        ImputedData()\n",
    "    ),\n",
    "    SetYCol('coatingId'),\n",
    "    Set(scoring='f1_weighted'),\n",
    "    DropCol('coating'),\n",
    "    AugmentByQuality(F=2, scale=0.3, qcol='quality'),\n",
    "    (\n",
    "        None,\n",
    "        AugmentImb(RandomOverSampler()),\n",
    "        AugmentImb(BorderlineSMOTE()),\n",
    "        AugmentImb(SMOTE()),\n",
    "        AugmentImb(ADASYN()),\n",
    "    ),\n",
    "    AggregateFeatures(show=False),\n",
    "    (\n",
    "        AllValidFeatures(ignoreCols=ignoreXCols),\n",
    "        NonCollinearFeatures(keepCols=['teosVolPct', 'teosVolume'],\n",
    "                             ignoreCols=ignoreXCols, show=False),\n",
    "    ),\n",
    "    ScaleX(allColumns=False),\n",
    "    (\n",
    "        # SetModel(RandomForestClassifier()),\n",
    "        SetModel(DecisionTreeClassifier()),\n",
    "    ),\n",
    "    (\n",
    "        None,\n",
    "        SelectFeaturesRFE(show=True)\n",
    "    ),\n",
    "    (\n",
    "        # SetModel(XGBClassifier()),\n",
    "        SetModel(KNeighborsClassifier()),\n",
    "        # SetModel(SVC()),\n",
    "        # SetModel(GaussianProcessClassifier()),\n",
    "        # SetModel(RandomForestClassifier()),\n",
    "    ),\n",
    "    SearchHyperParams(hyperparams.space),\n",
    "    TestPerformance(show=True)\n",
    "]"
   ]
  },
  {
   "cell_type": "code",
   "execution_count": 36,
   "id": "c5a71183-dafe-4dff-8598-5d5604222463",
   "metadata": {},
   "outputs": [
    {
     "name": "stdout",
     "output_type": "stream",
     "text": [
      "Pipeline 01:\n",
      "=============================== >>\n"
     ]
    },
    {
     "ename": "AssertionError",
     "evalue": "Invalid adapter LoadData() with type <class 'uv_vis.AdData.LoadData'>",
     "output_type": "error",
     "traceback": [
      "\u001b[0;31m---------------------------------------------------------------------------\u001b[0m",
      "\u001b[0;31mAssertionError\u001b[0m                            Traceback (most recent call last)",
      "Cell \u001b[0;32mIn[36], line 3\u001b[0m\n\u001b[1;32m      1\u001b[0m reload(pipeline)\n\u001b[1;32m      2\u001b[0m pipe \u001b[38;5;241m=\u001b[39m pipeline\u001b[38;5;241m.\u001b[39mGridLine(grid)\n\u001b[0;32m----> 3\u001b[0m \u001b[43mpipe\u001b[49m\u001b[38;5;241;43m.\u001b[39;49m\u001b[43mExecute\u001b[49m\u001b[43m(\u001b[49m\u001b[43minputCsv\u001b[49m\u001b[43m)\u001b[49m\n",
      "File \u001b[0;32m/home/hdd/Dropbox/work-Proj/Proj-UV-GNR-ML/code/model/pipeline.py:154\u001b[0m, in \u001b[0;36mGridLine.Execute\u001b[0;34m(self, X)\u001b[0m\n\u001b[1;32m    152\u001b[0m \u001b[38;5;28mself\u001b[39m\u001b[38;5;241m.\u001b[39mresults \u001b[38;5;241m=\u001b[39m []\n\u001b[1;32m    153\u001b[0m \u001b[38;5;28;01mfor\u001b[39;00m i \u001b[38;5;129;01min\u001b[39;00m \u001b[38;5;28mrange\u001b[39m(\u001b[38;5;28mlen\u001b[39m(\u001b[38;5;28mself\u001b[39m\u001b[38;5;241m.\u001b[39mgrid)):\n\u001b[0;32m--> 154\u001b[0m     X \u001b[38;5;241m=\u001b[39m \u001b[38;5;28;43mself\u001b[39;49m\u001b[38;5;241;43m.\u001b[39;49m\u001b[43mExecuteLine\u001b[49m\u001b[43m(\u001b[49m\u001b[43mi\u001b[49m\u001b[38;5;241;43m+\u001b[39;49m\u001b[38;5;241;43m1\u001b[39;49m\u001b[43m,\u001b[49m\u001b[43m \u001b[49m\u001b[43mX\u001b[49m\u001b[43m)\u001b[49m\n\u001b[1;32m    155\u001b[0m     \u001b[38;5;28mself\u001b[39m\u001b[38;5;241m.\u001b[39mresults\u001b[38;5;241m.\u001b[39mappend(X)\n",
      "File \u001b[0;32m/home/hdd/Dropbox/work-Proj/Proj-UV-GNR-ML/code/model/pipeline.py:146\u001b[0m, in \u001b[0;36mGridLine.ExecuteLine\u001b[0;34m(self, lineNo, X)\u001b[0m\n\u001b[1;32m    143\u001b[0m \u001b[38;5;28;01melse\u001b[39;00m:\n\u001b[1;32m    144\u001b[0m     xclone \u001b[38;5;241m=\u001b[39m X\n\u001b[0;32m--> 146\u001b[0m newX \u001b[38;5;241m=\u001b[39m \u001b[38;5;28;43mself\u001b[39;49m\u001b[38;5;241;43m.\u001b[39;49m\u001b[43m_pipeline\u001b[49m\u001b[43m(\u001b[49m\u001b[43mi\u001b[49m\u001b[43m,\u001b[49m\u001b[43m \u001b[49m\u001b[43mpipe\u001b[49m\u001b[43m,\u001b[49m\u001b[43m \u001b[49m\u001b[43mxclone\u001b[49m\u001b[43m)\u001b[49m\n\u001b[1;32m    147\u001b[0m \u001b[38;5;28mprint\u001b[39m(\u001b[38;5;124m\"\u001b[39m\u001b[38;5;124mDone \u001b[39m\u001b[38;5;132;01m%02d\u001b[39;00m\u001b[38;5;124m.\u001b[39m\u001b[38;5;130;01m\\n\u001b[39;00m\u001b[38;5;124m\"\u001b[39m \u001b[38;5;241m%\u001b[39m(i\u001b[38;5;241m+\u001b[39m\u001b[38;5;241m1\u001b[39m))\n\u001b[1;32m    149\u001b[0m \u001b[38;5;28;01mreturn\u001b[39;00m newX\n",
      "File \u001b[0;32m/home/hdd/Dropbox/work-Proj/Proj-UV-GNR-ML/code/model/pipeline.py:115\u001b[0m, in \u001b[0;36mGridLine._pipeline\u001b[0;34m(self, i, pipe, X)\u001b[0m\n\u001b[1;32m    112\u001b[0m     \u001b[38;5;28mself\u001b[39m\u001b[38;5;241m.\u001b[39madapters[\u001b[38;5;124m'\u001b[39m\u001b[38;5;124mL\u001b[39m\u001b[38;5;132;01m%02d\u001b[39;00m\u001b[38;5;124m'\u001b[39m \u001b[38;5;241m%\u001b[39m(i\u001b[38;5;241m+\u001b[39m\u001b[38;5;241m1\u001b[39m)]\u001b[38;5;241m.\u001b[39mappend(\u001b[38;5;124m\"\u001b[39m\u001b[38;5;124m\"\u001b[39m)\n\u001b[1;32m    113\u001b[0m     \u001b[38;5;28;01mcontinue\u001b[39;00m\n\u001b[0;32m--> 115\u001b[0m \u001b[38;5;28;01massert\u001b[39;00m \u001b[38;5;28missubclass\u001b[39m(adapter, Adapter), \\\n\u001b[1;32m    116\u001b[0m     \u001b[38;5;124m\"\u001b[39m\u001b[38;5;124mInvalid adapter \u001b[39m\u001b[38;5;132;01m%s\u001b[39;00m\u001b[38;5;124m with type \u001b[39m\u001b[38;5;132;01m%s\u001b[39;00m\u001b[38;5;124m\"\u001b[39m \u001b[38;5;241m%\u001b[39m(\u001b[38;5;28mstr\u001b[39m(adapter), \u001b[38;5;28mtype\u001b[39m(adapter))\n\u001b[1;32m    118\u001b[0m \u001b[38;5;28mself\u001b[39m\u001b[38;5;241m.\u001b[39madapters[\u001b[38;5;124m'\u001b[39m\u001b[38;5;124mL\u001b[39m\u001b[38;5;132;01m%02d\u001b[39;00m\u001b[38;5;124m'\u001b[39m \u001b[38;5;241m%\u001b[39m(i\u001b[38;5;241m+\u001b[39m\u001b[38;5;241m1\u001b[39m)]\u001b[38;5;241m.\u001b[39mappend(utils\u001b[38;5;241m.\u001b[39mnice_name(adapter))\n\u001b[1;32m    120\u001b[0m \u001b[38;5;28;01mtry\u001b[39;00m:\n",
      "\u001b[0;31mAssertionError\u001b[0m: Invalid adapter LoadData() with type <class 'uv_vis.AdData.LoadData'>"
     ]
    }
   ],
   "source": [
    "reload(pipeline)\n",
    "pipe = pipeline.GridLine(grid)\n",
    "pipe.Execute(inputCsv)"
   ]
  },
  {
   "cell_type": "code",
   "execution_count": null,
   "id": "0dbdd922-9398-47e9-b063-eb6f436ca604",
   "metadata": {},
   "outputs": [],
   "source": [
    "res = pipe.Summarize()\n",
    "print(res)\n",
    "try:\n",
    "    res.to_csv(\"gridline_results.csv\")\n",
    "except:\n",
    "    input(\"Please close the excel file if open and press enter ...\")\n",
    "    res.to_csv(\"gridline_results.csv\")\n",
    "    print(\"Saved\")"
   ]
  },
  {
   "cell_type": "code",
   "execution_count": null,
   "id": "6ade8565-e962-4f7b-9fbb-29804bffdfab",
   "metadata": {},
   "outputs": [],
   "source": [
    "class get_ipython:\n",
    "    def system(*args):\n",
    "        pass"
   ]
  },
  {
   "cell_type": "markdown",
   "id": "fca430c7-52d1-44f4-9cd4-115d80fa979f",
   "metadata": {},
   "source": [
    "```bash\n",
    "## RUN THIS NOTEBOOK FROM THE TERMINAL\n",
    "$ jupyter nbconvert --to script PlayGround.ipynb\n",
    "$ python PlayGround.py\n",
    "```"
   ]
  }
 ],
 "metadata": {
  "kernelspec": {
   "display_name": "Python 3 (ipykernel)",
   "language": "python",
   "name": "python3"
  },
  "language_info": {
   "codemirror_mode": {
    "name": "ipython",
    "version": 3
   },
   "file_extension": ".py",
   "mimetype": "text/x-python",
   "name": "python",
   "nbconvert_exporter": "python",
   "pygments_lexer": "ipython3",
   "version": "3.9.12"
  }
 },
 "nbformat": 4,
 "nbformat_minor": 5
}
