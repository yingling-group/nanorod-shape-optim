{
 "cells": [
  {
   "cell_type": "markdown",
   "id": "f2721461-404a-4096-9ac6-05f25484f3b9",
   "metadata": {},
   "source": [
    "```bash\n",
    "## TO RUN THIS NOTEBOOK FROM THE TERMINAL\n",
    "$ jupyter nbconvert --to script x10_classifier_pipeline.ipynb\n",
    "$ python x10_classifier_pipeline.py\n",
    "```"
   ]
  },
  {
   "cell_type": "code",
   "execution_count": null,
   "id": "2910f7fa-d920-47b3-87be-1bf52b107c1f",
   "metadata": {},
   "outputs": [],
   "source": [
    "import numpy as np\n",
    "import pandas as pd\n",
    "import matplotlib.pyplot as plt\n",
    "\n",
    "from xgboost import XGBClassifier\n",
    "\n",
    "from imblearn.over_sampling import RandomOverSampler\n",
    "from imblearn.over_sampling import SMOTE, ADASYN\n",
    "from imblearn.over_sampling import BorderlineSMOTE\n",
    "\n",
    "from sklearn.svm import SVC\n",
    "from sklearn.tree import DecisionTreeClassifier\n",
    "from sklearn.ensemble import RandomForestClassifier\n",
    "from sklearn.ensemble import GradientBoostingClassifier\n",
    "from sklearn.ensemble import RandomForestClassifier\n",
    "from sklearn.neighbors import KNeighborsClassifier\n",
    "from sklearn.neighbors import KNeighborsClassifier\n",
    "from sklearn.gaussian_process import kernels, GaussianProcessClassifier"
   ]
  },
  {
   "cell_type": "markdown",
   "id": "e7ed6695-ff69-44f0-a3b1-7f2da32b7ba0",
   "metadata": {},
   "source": [
    "### Common libraries"
   ]
  },
  {
   "cell_type": "code",
   "execution_count": null,
   "id": "8d3191bb-1005-47e7-bf47-9f82f0f35f21",
   "metadata": {},
   "outputs": [],
   "source": [
    "import pipeline as pl\n",
    "from model import plotlib"
   ]
  },
  {
   "cell_type": "code",
   "execution_count": null,
   "id": "f0f57f69-274c-4b49-b66b-2640fcea0b00",
   "metadata": {},
   "outputs": [],
   "source": [
    "from model.AdData import *\n",
    "from model.AdFeatures import *\n",
    "from model.AdClassify import TestPerformance\n",
    "from model import hyperparams"
   ]
  },
  {
   "cell_type": "markdown",
   "id": "7a1e4ed7-7fc5-44fe-897c-0d93af35be5f",
   "metadata": {},
   "source": [
    "### Initialize"
   ]
  },
  {
   "cell_type": "code",
   "execution_count": null,
   "id": "437a0743-bdf6-4c66-aa57-18506e38db0b",
   "metadata": {},
   "outputs": [],
   "source": [
    "plotlib.load_fonts(\"../../../common/fonts/\")\n",
    "plt.style.use(\"matplotlib.mplstyle\")\n",
    "\n",
    "inputCsv = \"../Data/imputed_data.mice.csv\"\n",
    "ignoreXCols = ['imp', 'id', 'quality', 'lobe', 'full', 'other', 'coatingId']"
   ]
  },
  {
   "cell_type": "code",
   "execution_count": null,
   "id": "29c53e34-361f-450c-b9cc-e8ed0fbfb472",
   "metadata": {},
   "outputs": [],
   "source": [
    "loader = LoadData()\n",
    "loader.Execute(inputCsv)"
   ]
  },
  {
   "cell_type": "code",
   "execution_count": null,
   "id": "654a5cf4-6466-4176-ba7f-696f687eacdf",
   "metadata": {},
   "outputs": [],
   "source": [
    "plotQuality = pl.PlotFrequency('quality')\n",
    "plotClasses = pl.PlotFrequency('coatingId')"
   ]
  },
  {
   "cell_type": "markdown",
   "id": "529bcfd0-ad87-4b0e-89bf-6133ae9a0f47",
   "metadata": {},
   "source": [
    "### Define grid pipeline"
   ]
  },
  {
   "cell_type": "code",
   "execution_count": null,
   "id": "cd5b3864-28a1-47d3-91f9-7c7ffaecd18c",
   "metadata": {},
   "outputs": [],
   "source": [
    "grid = [\n",
    "    loader,\n",
    "    (\n",
    "        ObservedData(),\n",
    "        ImputedData()\n",
    "    ),\n",
    "    pl.SetYCol('coatingId'),\n",
    "    pl.Set(scoring='f1_weighted'),\n",
    "    pl.DropCol('coating'),\n",
    "    (\n",
    "        pl.AllValidFeatures(ignoreCols=ignoreXCols),\n",
    "        pl.NonCollinearFeatures(keepCols=['teosVolPct', 'teosVolume'],\n",
    "                             ignoreCols=ignoreXCols, show=False),\n",
    "    ),\n",
    "    pl.AugmentByQuality(F=2, scale=0.3, qcol='quality'),\n",
    "    (\n",
    "        None,\n",
    "        pl.AugmentImb(RandomOverSampler()),\n",
    "        pl.AugmentImb(BorderlineSMOTE()),\n",
    "        pl.AugmentImb(SMOTE()),\n",
    "        pl.AugmentImb(ADASYN()),\n",
    "    ),\n",
    "    # plotQuality,\n",
    "    # plotClasses,\n",
    "    pl.SplitValidation(),\n",
    "    pl.Stop(),\n",
    "    AggregateFeatures(show=False),\n",
    "    pl.ScaleX(allColumns=False),\n",
    "    (\n",
    "        # SetModel(RandomForestClassifier()),\n",
    "        pl.SetModel(DecisionTreeClassifier()),\n",
    "    ),\n",
    "    (\n",
    "        None,\n",
    "        pl.SelectFeaturesRFE(show=True)\n",
    "    ),\n",
    "    (\n",
    "        # SetModel(XGBClassifier()),\n",
    "        pl.SetModel(KNeighborsClassifier()),\n",
    "        # SetModel(SVC()),\n",
    "        # SetModel(GaussianProcessClassifier()),\n",
    "        # SetModel(RandomForestClassifier()),\n",
    "    ),\n",
    "    pl.SearchHyperParams(hyperparams.space),\n",
    "    TestPerformance(show=True)\n",
    "]"
   ]
  },
  {
   "cell_type": "code",
   "execution_count": null,
   "id": "c5a71183-dafe-4dff-8598-5d5604222463",
   "metadata": {},
   "outputs": [],
   "source": [
    "pipe = pipeline.GridLine(grid)\n",
    "pipe.Execute(inputCsv)"
   ]
  },
  {
   "cell_type": "code",
   "execution_count": null,
   "id": "0dbdd922-9398-47e9-b063-eb6f436ca604",
   "metadata": {},
   "outputs": [],
   "source": [
    "res = pipe.Summarize()\n",
    "print(res)\n",
    "try:\n",
    "    res.to_csv(\"gridline_results.csv\")\n",
    "except:\n",
    "    input(\"Please close the excel file if open and press enter ...\")\n",
    "    res.to_csv(\"gridline_results.csv\")\n",
    "    print(\"Saved\")"
   ]
  },
  {
   "cell_type": "code",
   "execution_count": null,
   "id": "6ade8565-e962-4f7b-9fbb-29804bffdfab",
   "metadata": {},
   "outputs": [],
   "source": [
    "class get_ipython:\n",
    "    def system(*args):\n",
    "        pass"
   ]
  },
  {
   "cell_type": "markdown",
   "id": "fca430c7-52d1-44f4-9cd4-115d80fa979f",
   "metadata": {},
   "source": [
    "```bash\n",
    "## RUN THIS NOTEBOOK FROM THE TERMINAL\n",
    "$ jupyter nbconvert --to script PlayGround.ipynb\n",
    "$ python PlayGround.py\n",
    "```"
   ]
  }
 ],
 "metadata": {
  "kernelspec": {
   "display_name": "Python 3 (ipykernel)",
   "language": "python",
   "name": "python3"
  },
  "language_info": {
   "codemirror_mode": {
    "name": "ipython",
    "version": 3
   },
   "file_extension": ".py",
   "mimetype": "text/x-python",
   "name": "python",
   "nbconvert_exporter": "python",
   "pygments_lexer": "ipython3",
   "version": "3.9.12"
  }
 },
 "nbformat": 4,
 "nbformat_minor": 5
}
