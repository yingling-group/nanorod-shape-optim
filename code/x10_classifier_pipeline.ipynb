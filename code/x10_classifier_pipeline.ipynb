{
 "cells": [
  {
   "cell_type": "markdown",
   "id": "f2721461-404a-4096-9ac6-05f25484f3b9",
   "metadata": {},
   "source": [
    "```bash\n",
    "## TO RUN THIS NOTEBOOK FROM THE TERMINAL\n",
    "$ jupyter nbconvert --to script x10_classifier_pipeline.ipynb\n",
    "$ python x10_classifier_pipeline.py\n",
    "```"
   ]
  },
  {
   "cell_type": "code",
   "execution_count": null,
   "id": "80c43a07-e646-4398-aa0d-5f12dc835cbb",
   "metadata": {},
   "outputs": [],
   "source": [
    "import numpy as np\n",
    "import pandas as pd\n",
    "import matplotlib.pyplot as plt\n",
    "\n",
    "from xgboost import XGBClassifier\n",
    "\n",
    "from imblearn.over_sampling import RandomOverSampler\n",
    "from imblearn.over_sampling import SMOTE, ADASYN\n",
    "from imblearn.over_sampling import BorderlineSMOTE"
   ]
  },
  {
   "cell_type": "code",
   "execution_count": null,
   "id": "2910f7fa-d920-47b3-87be-1bf52b107c1f",
   "metadata": {},
   "outputs": [],
   "source": [
    "from sklearn.svm import SVC\n",
    "from sklearn.tree import DecisionTreeClassifier\n",
    "from sklearn.ensemble import RandomForestClassifier\n",
    "from sklearn.ensemble import GradientBoostingClassifier\n",
    "from sklearn.ensemble import RandomForestClassifier\n",
    "from sklearn.neighbors import KNeighborsClassifier\n",
    "from sklearn.neighbors import KNeighborsClassifier\n",
    "from sklearn.gaussian_process import kernels, GaussianProcessClassifier"
   ]
  },
  {
   "cell_type": "markdown",
   "id": "e7ed6695-ff69-44f0-a3b1-7f2da32b7ba0",
   "metadata": {},
   "source": [
    "### Load libraries"
   ]
  },
  {
   "cell_type": "code",
   "execution_count": 32,
   "id": "8d3191bb-1005-47e7-bf47-9f82f0f35f21",
   "metadata": {},
   "outputs": [],
   "source": [
    "# Custom scikit-learn like pipeline with additional functionalities\n",
    "import pipeline as pl\n",
    "import pipeline"
   ]
  },
  {
   "cell_type": "code",
   "execution_count": null,
   "id": "f0f57f69-274c-4b49-b66b-2640fcea0b00",
   "metadata": {},
   "outputs": [],
   "source": [
    "# How the pipeline should be run for this project\n",
    "from model.AdData import *\n",
    "from model.AdFeatures import *\n",
    "from model.AdClassify import TestPerformance"
   ]
  },
  {
   "cell_type": "code",
   "execution_count": null,
   "id": "dc7f162c-cfca-49c8-9538-d5a47b2fa0f0",
   "metadata": {},
   "outputs": [],
   "source": [
    "# Utilities\n",
    "from model import hyperparams\n",
    "from model import plotlib"
   ]
  },
  {
   "cell_type": "markdown",
   "id": "7a1e4ed7-7fc5-44fe-897c-0d93af35be5f",
   "metadata": {},
   "source": [
    "### Initialize"
   ]
  },
  {
   "cell_type": "code",
   "execution_count": null,
   "id": "437a0743-bdf6-4c66-aa57-18506e38db0b",
   "metadata": {},
   "outputs": [],
   "source": [
    "plotlib.load_fonts(\"../../../common/fonts/\")\n",
    "plt.style.use(\"matplotlib.mplstyle\")\n",
    "\n",
    "runName = 'classifier_pl_run1800'\n",
    "outputCsv = \"%s_results.csv\" %runName"
   ]
  },
  {
   "cell_type": "code",
   "execution_count": null,
   "id": "e3908f5a-d5da-4f77-a988-fc92308b314c",
   "metadata": {},
   "outputs": [],
   "source": [
    "# Save outputs to log files\n",
    "pl.set_stderr(\"%s.errlog.txt\" %runName, fout=\"%s.log.txt\" %runName)"
   ]
  },
  {
   "cell_type": "code",
   "execution_count": null,
   "id": "29c53e34-361f-450c-b9cc-e8ed0fbfb472",
   "metadata": {},
   "outputs": [],
   "source": [
    "inputCsv = \"../Data/imputed_data.mice.csv\"\n",
    "ignoreXCols = ['imp', 'id', 'quality', 'lobe', 'full', 'other', 'coatingId']"
   ]
  },
  {
   "cell_type": "code",
   "execution_count": null,
   "id": "081b7bda-254a-4c8c-80d3-69c4e13a562b",
   "metadata": {},
   "outputs": [],
   "source": [
    "loader = LoadData()\n",
    "loader.Execute(inputCsv)"
   ]
  },
  {
   "cell_type": "code",
   "execution_count": null,
   "id": "654a5cf4-6466-4176-ba7f-696f687eacdf",
   "metadata": {},
   "outputs": [],
   "source": [
    "plotQuality = pl.PlotFrequency('quality')\n",
    "plotClasses = pl.PlotFrequency('coatingId')"
   ]
  },
  {
   "cell_type": "markdown",
   "id": "529bcfd0-ad87-4b0e-89bf-6133ae9a0f47",
   "metadata": {},
   "source": [
    "### Define grid pipeline"
   ]
  },
  {
   "cell_type": "code",
   "execution_count": null,
   "id": "d26672db-d39f-49ac-9586-b8a95ebca33c",
   "metadata": {},
   "outputs": [],
   "source": [
    "class RunCond(pl.Adapter):\n",
    "    \"\"\" Run an adapter if condition passes. \"\"\"\n",
    "    def __init__(self, adapter_instance):\n",
    "        self.adpt = adapter_instance\n",
    "\n",
    "    def __repr__(self):\n",
    "        return \"RunCond: \" + pl.nice_name(self.adpt)\n",
    "    \n",
    "    def Process(self, pl):\n",
    "        if pipeline.nice_name(pl.model) in [\"GaussianProcessClassifier\"]:\n",
    "            self.sayf(\"{} skipped, run condition failed.\", pipeline.nice_name(self.adpt))\n",
    "            return pl\n",
    "        \n",
    "        return self.adpt.Execute(pl)"
   ]
  },
  {
   "cell_type": "code",
   "execution_count": null,
   "id": "cd5b3864-28a1-47d3-91f9-7c7ffaecd18c",
   "metadata": {},
   "outputs": [],
   "source": [
    "grid = [\n",
    "    loader,\n",
    "    (\n",
    "        ObservedData(),\n",
    "        ImputedData()\n",
    "    ),\n",
    "    pl.SetYCol('coatingId'),\n",
    "    pl.Set(scoring='f1_weighted'), #scoring used by sklearn\n",
    "    pl.DropCol('coating'),\n",
    "    (\n",
    "        pl.AllValidFeatures(ignoreCols=ignoreXCols),\n",
    "        pl.NonCollinearFeatures(keepCols=['teosVolPct', 'teosVolume'],\n",
    "                             ignoreCols=ignoreXCols, show=False),\n",
    "    ),\n",
    "    (\n",
    "        None,\n",
    "        pl.AugmentByQuality(F=1, scale=0.3, qcol='quality'),\n",
    "        pl.AugmentByQuality(F=2, scale=0.4, qcol='quality'),\n",
    "    ),\n",
    "    (\n",
    "        None,\n",
    "        pl.ScaleX(allColumns=False),\n",
    "        pl.ScaleX(allColumns=True)\n",
    "    ),\n",
    "    (\n",
    "        None,\n",
    "        pl.AugmentImb(RandomOverSampler()),\n",
    "        pl.AugmentImb(BorderlineSMOTE()),\n",
    "        pl.AugmentImb(SMOTE()),\n",
    "        pl.AugmentImb(ADASYN()),\n",
    "    ),\n",
    "    # plotQuality,\n",
    "    # plotClasses,\n",
    "    pl.SplitValidation(),\n",
    "    (\n",
    "        None,\n",
    "        AggregateFeatures(show=False)\n",
    "    ),\n",
    "    pl.ScaleX(allColumns=True),\n",
    "    pl.SetModel(DecisionTreeClassifier()),\n",
    "    pl.SelectFeaturesRFE(show=True),\n",
    "    (\n",
    "        pl.SetModel(XGBClassifier()),\n",
    "        pl.SetModel(KNeighborsClassifier()),\n",
    "        pl.SetModel(SVC()),\n",
    "        pl.SetModel(GaussianProcessClassifier()),\n",
    "        # pl.SetModel(RandomForestClassifier()),\n",
    "    ),\n",
    "    RunCond(pl.SearchHyperParams(hyperparams.space)),\n",
    "    TestPerformance(show=True, use_validation=True),\n",
    "    TestPerformance(show=True, use_test=True),\n",
    "]"
   ]
  },
  {
   "cell_type": "code",
   "execution_count": null,
   "id": "c5a71183-dafe-4dff-8598-5d5604222463",
   "metadata": {},
   "outputs": [],
   "source": [
    "pipe = pipeline.GridLine(grid)\n",
    "pipe.Shuffle() # suffle the list, so we immediately have data for analysis\n",
    "pipe.Save(outputCsv) # save the results after each pipeline run"
   ]
  },
  {
   "cell_type": "code",
   "execution_count": null,
   "id": "12232299-c378-40a3-9ede-04c6b2eb62c3",
   "metadata": {},
   "outputs": [],
   "source": [
    "pipe.grid"
   ]
  },
  {
   "cell_type": "code",
   "execution_count": null,
   "id": "0dbdd922-9398-47e9-b063-eb6f436ca604",
   "metadata": {},
   "outputs": [],
   "source": [
    "pipe.Execute(inputCsv)\n",
    "res = pipe.Summarize()\n",
    "print(res)"
   ]
  },
  {
   "cell_type": "code",
   "execution_count": null,
   "id": "3c545ece-7f73-44f2-b72d-90fa1c90ae59",
   "metadata": {},
   "outputs": [],
   "source": [
    "try:\n",
    "    res.to_csv(outputCsv)\n",
    "except:\n",
    "    input(\"Please close %s if open and press enter ...\" %outputCsv)\n",
    "    res.to_csv(outputCsv)\n",
    "    print(\"Save OK:\", outputCsv)"
   ]
  }
 ],
 "metadata": {
  "kernelspec": {
   "display_name": "Python 3 (ipykernel)",
   "language": "python",
   "name": "python3"
  },
  "language_info": {
   "codemirror_mode": {
    "name": "ipython",
    "version": 3
   },
   "file_extension": ".py",
   "mimetype": "text/x-python",
   "name": "python",
   "nbconvert_exporter": "python",
   "pygments_lexer": "ipython3",
   "version": "3.9.16"
  }
 },
 "nbformat": 4,
 "nbformat_minor": 5
}
